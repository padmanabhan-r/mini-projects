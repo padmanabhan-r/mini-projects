{
 "cells": [
  {
   "cell_type": "code",
   "execution_count": 1,
   "metadata": {},
   "outputs": [],
   "source": [
    "import pandas as pd\n",
    "df = pd.read_csv('temperature.csv')"
   ]
  },
  {
   "cell_type": "code",
   "execution_count": 2,
   "metadata": {},
   "outputs": [],
   "source": [
    "X = df['C'].values\n",
    "y = df['F'].values"
   ]
  },
  {
   "cell_type": "code",
   "execution_count": 3,
   "metadata": {},
   "outputs": [],
   "source": [
    "from tensorflow.keras.models import Sequential\n",
    "from tensorflow.keras.layers import Dense\n",
    "import tensorflow as tf"
   ]
  },
  {
   "cell_type": "code",
   "execution_count": 4,
   "metadata": {},
   "outputs": [
    {
     "name": "stdout",
     "output_type": "stream",
     "text": [
      "2.3.0\n"
     ]
    }
   ],
   "source": [
    "print(tf.__version__)"
   ]
  },
  {
   "cell_type": "code",
   "execution_count": 26,
   "metadata": {},
   "outputs": [
    {
     "name": "stdout",
     "output_type": "stream",
     "text": [
      "2.3.0\n",
      "The following GPU devices are available: /device:GPU:0\n"
     ]
    }
   ],
   "source": [
    "# For measuring the inference time.\n",
    "import time\n",
    "\n",
    "# Print Tensorflow version\n",
    "print(tf.__version__)\n",
    "\n",
    "# Check available GPU devices.\n",
    "print(\"The following GPU devices are available: %s\" % tf.test.gpu_device_name())"
   ]
  },
  {
   "cell_type": "code",
   "execution_count": 27,
   "metadata": {},
   "outputs": [],
   "source": [
    "model = Sequential()\n",
    "model.add(Dense(5,input_dim=1,activation='relu'))\n",
    "model.add(Dense(5,activation='relu')) #need not give input here.\n",
    "model.add(Dense(5,activation='relu')) #need not give input here.\n",
    "model.add(Dense(5,activation='relu')) #need not give input here.\n",
    "model.add(Dense(5,activation='relu')) #need not give input here.\n",
    "model.add(Dense(5,activation='relu')) #need not give input here.\n",
    "model.add(Dense(5,activation='relu')) #need not give input here.\n",
    "model.add(Dense(5,activation='relu')) #need not give input here.\n",
    "model.add(Dense(5,activation='relu')) #need not give input here.\n",
    "model.add(Dense(5,activation='relu')) #need not give input here.\n",
    "model.add(Dense(5,activation='relu')) #need not give input here.\n",
    "model.add(Dense(1, activation='linear'))"
   ]
  },
  {
   "cell_type": "code",
   "execution_count": 28,
   "metadata": {},
   "outputs": [
    {
     "name": "stdout",
     "output_type": "stream",
     "text": [
      "Model: \"sequential_3\"\n",
      "_________________________________________________________________\n",
      "Layer (type)                 Output Shape              Param #   \n",
      "=================================================================\n",
      "dense_8 (Dense)              (None, 5)                 10        \n",
      "_________________________________________________________________\n",
      "dense_9 (Dense)              (None, 5)                 30        \n",
      "_________________________________________________________________\n",
      "dense_10 (Dense)             (None, 5)                 30        \n",
      "_________________________________________________________________\n",
      "dense_11 (Dense)             (None, 5)                 30        \n",
      "_________________________________________________________________\n",
      "dense_12 (Dense)             (None, 5)                 30        \n",
      "_________________________________________________________________\n",
      "dense_13 (Dense)             (None, 5)                 30        \n",
      "_________________________________________________________________\n",
      "dense_14 (Dense)             (None, 5)                 30        \n",
      "_________________________________________________________________\n",
      "dense_15 (Dense)             (None, 5)                 30        \n",
      "_________________________________________________________________\n",
      "dense_16 (Dense)             (None, 5)                 30        \n",
      "_________________________________________________________________\n",
      "dense_17 (Dense)             (None, 5)                 30        \n",
      "_________________________________________________________________\n",
      "dense_18 (Dense)             (None, 5)                 30        \n",
      "_________________________________________________________________\n",
      "dense_19 (Dense)             (None, 1)                 6         \n",
      "=================================================================\n",
      "Total params: 316\n",
      "Trainable params: 316\n",
      "Non-trainable params: 0\n",
      "_________________________________________________________________\n"
     ]
    }
   ],
   "source": [
    "model.summary()"
   ]
  },
  {
   "cell_type": "code",
   "execution_count": 29,
   "metadata": {},
   "outputs": [],
   "source": [
    "model.compile(loss='mean_squared_error',\n",
    "              optimizer=tf.keras.optimizers.Adam(0.1))"
   ]
  },
  {
   "cell_type": "code",
   "execution_count": 30,
   "metadata": {},
   "outputs": [
    {
     "name": "stdout",
     "output_type": "stream",
     "text": [
      "Epoch 1/30\n",
      "3/3 [==============================] - 0s 114ms/step - loss: 4192.8594 - val_loss: 565.3719\n",
      "Epoch 2/30\n",
      "3/3 [==============================] - 0s 18ms/step - loss: 625.2020 - val_loss: 409.8466\n",
      "Epoch 3/30\n",
      "3/3 [==============================] - 0s 17ms/step - loss: 284.4441 - val_loss: 157.3206\n",
      "Epoch 4/30\n",
      "3/3 [==============================] - 0s 18ms/step - loss: 190.8152 - val_loss: 196.6274\n",
      "Epoch 5/30\n",
      "3/3 [==============================] - 0s 19ms/step - loss: 171.7613 - val_loss: 141.8483\n",
      "Epoch 6/30\n",
      "3/3 [==============================] - 0s 19ms/step - loss: 112.6640 - val_loss: 65.9818\n",
      "Epoch 7/30\n",
      "3/3 [==============================] - 0s 21ms/step - loss: 67.4868 - val_loss: 60.7512\n",
      "Epoch 8/30\n",
      "3/3 [==============================] - 0s 23ms/step - loss: 48.7543 - val_loss: 28.9088\n",
      "Epoch 9/30\n",
      "3/3 [==============================] - 0s 22ms/step - loss: 25.1079 - val_loss: 13.6130\n",
      "Epoch 10/30\n",
      "3/3 [==============================] - 0s 21ms/step - loss: 13.9126 - val_loss: 6.7981\n",
      "Epoch 11/30\n",
      "3/3 [==============================] - 0s 21ms/step - loss: 6.0998 - val_loss: 11.5427\n",
      "Epoch 12/30\n",
      "3/3 [==============================] - 0s 19ms/step - loss: 8.1952 - val_loss: 16.5856\n",
      "Epoch 13/30\n",
      "3/3 [==============================] - 0s 23ms/step - loss: 16.9461 - val_loss: 12.3393\n",
      "Epoch 14/30\n",
      "3/3 [==============================] - 0s 24ms/step - loss: 10.7924 - val_loss: 8.6704\n",
      "Epoch 15/30\n",
      "3/3 [==============================] - 0s 24ms/step - loss: 4.5116 - val_loss: 1.6140\n",
      "Epoch 16/30\n",
      "3/3 [==============================] - 0s 23ms/step - loss: 2.0272 - val_loss: 1.6163\n",
      "Epoch 17/30\n",
      "3/3 [==============================] - 0s 23ms/step - loss: 1.5946 - val_loss: 1.9974\n",
      "Epoch 18/30\n",
      "3/3 [==============================] - 0s 23ms/step - loss: 2.2690 - val_loss: 1.4949\n",
      "Epoch 19/30\n",
      "3/3 [==============================] - 0s 23ms/step - loss: 2.9365 - val_loss: 3.9626\n",
      "Epoch 20/30\n",
      "3/3 [==============================] - 0s 23ms/step - loss: 2.8365 - val_loss: 3.3924\n",
      "Epoch 21/30\n",
      "3/3 [==============================] - 0s 24ms/step - loss: 3.5940 - val_loss: 1.9368\n",
      "Epoch 22/30\n",
      "3/3 [==============================] - 0s 23ms/step - loss: 3.4686 - val_loss: 3.1207\n",
      "Epoch 23/30\n",
      "3/3 [==============================] - 0s 22ms/step - loss: 3.4811 - val_loss: 1.0472\n",
      "Epoch 24/30\n",
      "3/3 [==============================] - 0s 18ms/step - loss: 1.7385 - val_loss: 2.0935\n",
      "Epoch 25/30\n",
      "3/3 [==============================] - 0s 20ms/step - loss: 1.8148 - val_loss: 0.4436\n",
      "Epoch 26/30\n",
      "3/3 [==============================] - 0s 18ms/step - loss: 1.3726 - val_loss: 1.7109\n",
      "Epoch 27/30\n",
      "3/3 [==============================] - 0s 20ms/step - loss: 1.5202 - val_loss: 1.4073\n",
      "Epoch 28/30\n",
      "3/3 [==============================] - 0s 23ms/step - loss: 1.8344 - val_loss: 1.0061\n",
      "Epoch 29/30\n",
      "3/3 [==============================] - 0s 23ms/step - loss: 2.0069 - val_loss: 2.9302\n",
      "Epoch 30/30\n",
      "3/3 [==============================] - 0s 23ms/step - loss: 2.2110 - val_loss: 0.4854\n"
     ]
    },
    {
     "data": {
      "text/plain": [
       "<tensorflow.python.keras.callbacks.History at 0x14f276e9340>"
      ]
     },
     "execution_count": 30,
     "metadata": {},
     "output_type": "execute_result"
    }
   ],
   "source": [
    "model.fit(X,y,epochs=30,verbose=1,validation_split=0.2)"
   ]
  },
  {
   "cell_type": "code",
   "execution_count": 31,
   "metadata": {},
   "outputs": [],
   "source": [
    "loss_df = pd.DataFrame(model.history.history)"
   ]
  },
  {
   "cell_type": "code",
   "execution_count": 32,
   "metadata": {},
   "outputs": [
    {
     "data": {
      "text/plain": [
       "<AxesSubplot:>"
      ]
     },
     "execution_count": 32,
     "metadata": {},
     "output_type": "execute_result"
    },
    {
     "data": {
      "image/png": "[encoded data removed]",
      "text/plain": [
       "<Figure size 432x288 with 1 Axes>"
      ]
     },
     "metadata": {
      "needs_background": "light"
     },
     "output_type": "display_data"
    }
   ],
   "source": [
    "loss_df.plot()"
   ]
  },
  {
   "cell_type": "code",
   "execution_count": 33,
   "metadata": {},
   "outputs": [
    {
     "data": {
      "text/plain": [
       "array([[87.13754]], dtype=float32)"
      ]
     },
     "execution_count": 33,
     "metadata": {},
     "output_type": "execute_result"
    }
   ],
   "source": [
    "model.predict([31])"
   ]
  },
  {
   "cell_type": "code",
   "execution_count": 34,
   "metadata": {},
   "outputs": [
    {
     "data": {
      "text/plain": [
       "[<tf.Variable 'dense_8/kernel:0' shape=(1, 5) dtype=float32, numpy=\n",
       " array([[ 0.75959265, -0.5003656 ,  0.13469015, -0.45586073,  0.29839748]],\n",
       "       dtype=float32)>,\n",
       " <tf.Variable 'dense_8/bias:0' shape=(5,) dtype=float32, numpy=\n",
       " array([ 1.3823303 , -0.4172862 , -0.88280165, -0.3626495 , -0.3870561 ],\n",
       "       dtype=float32)>,\n",
       " <tf.Variable 'dense_9/kernel:0' shape=(5, 5) dtype=float32, numpy=\n",
       " array([[-0.78322166,  0.80283237, -0.5660453 , -0.76307315,  0.40528196],\n",
       "        [-0.3114652 , -0.706817  , -0.6888777 , -0.58829737,  0.31687889],\n",
       "        [-0.5821236 , -0.23645486,  0.7744076 ,  0.35268497,  0.23397891],\n",
       "        [-0.36313763, -0.50492746,  0.38940096, -0.44097027,  0.3348069 ],\n",
       "        [ 0.14771244, -0.4381552 , -0.65286714, -0.22145689,  0.5027554 ]],\n",
       "       dtype=float32)>,\n",
       " <tf.Variable 'dense_9/bias:0' shape=(5,) dtype=float32, numpy=\n",
       " array([-0.5468436 ,  1.0974898 ,  0.        ,  0.        ,  0.75393903],\n",
       "       dtype=float32)>,\n",
       " <tf.Variable 'dense_10/kernel:0' shape=(5, 5) dtype=float32, numpy=\n",
       " array([[ 0.22405273, -1.158957  , -0.33184928, -0.13873485, -0.7936851 ],\n",
       "        [-1.1702008 ,  0.33630976,  0.93510723,  0.15995595,  0.6063769 ],\n",
       "        [-0.33010516, -0.3278218 , -0.68883616, -0.00759453, -0.52059966],\n",
       "        [-0.06068087, -0.37805945,  0.514593  , -0.231704  , -0.0408479 ],\n",
       "        [-0.15501857, -0.77944726,  0.41132507,  0.38582414,  0.05608253]],\n",
       "       dtype=float32)>,\n",
       " <tf.Variable 'dense_10/bias:0' shape=(5,) dtype=float32, numpy=\n",
       " array([-0.8076539,  1.1052066,  1.343879 ,  0.9244162,  1.3333563],\n",
       "       dtype=float32)>,\n",
       " <tf.Variable 'dense_11/kernel:0' shape=(5, 5) dtype=float32, numpy=\n",
       " array([[-6.29800200e-01, -1.10015035e-01,  2.96178740e-02,\n",
       "         -5.03554404e-01, -8.39284420e-01],\n",
       "        [ 7.64725327e-01, -3.70609701e-01,  2.44437680e-02,\n",
       "          9.34273675e-02,  1.09391987e+00],\n",
       "        [ 1.69819817e-01, -6.32633984e-01,  7.80524075e-01,\n",
       "         -1.22105801e+00,  7.04840064e-01],\n",
       "        [ 4.38603997e-01,  1.45631731e-01, -1.93202063e-01,\n",
       "         -7.30311051e-02,  4.49391156e-01],\n",
       "        [ 6.17308915e-01,  4.52429533e-01,  8.89348328e-01,\n",
       "          1.22799407e-04,  8.61138284e-01]], dtype=float32)>,\n",
       " <tf.Variable 'dense_11/bias:0' shape=(5,) dtype=float32, numpy=\n",
       " array([ 1.256761  ,  0.        ,  1.3684435 , -0.55579334,  1.4282084 ],\n",
       "       dtype=float32)>,\n",
       " <tf.Variable 'dense_12/kernel:0' shape=(5, 5) dtype=float32, numpy=\n",
       " array([[ 0.26966342,  0.35975593,  0.5373502 ,  0.18846941, -0.79827875],\n",
       "        [-0.39145398, -0.662938  , -0.4172358 ,  0.70050967, -0.6512796 ],\n",
       "        [ 0.616162  ,  0.7779817 , -0.72637755,  0.34655395,  0.08113924],\n",
       "        [ 1.2588726 ,  0.42416817,  0.4633882 , -0.15506841,  0.689036  ],\n",
       "        [ 0.94363713,  0.7200033 , -0.32278505,  0.08653206, -1.313131  ]],\n",
       "       dtype=float32)>,\n",
       " <tf.Variable 'dense_12/bias:0' shape=(5,) dtype=float32, numpy=\n",
       " array([ 1.5510676,  1.4267699,  0.       ,  1.0663899, -0.6004752],\n",
       "       dtype=float32)>,\n",
       " <tf.Variable 'dense_13/kernel:0' shape=(5, 5) dtype=float32, numpy=\n",
       " array([[-0.4828346 , -0.71400356, -0.4781764 , -0.00273589,  0.7820721 ],\n",
       "        [-0.05249149,  0.09774131,  0.64530665,  0.1273299 ,  0.48433852],\n",
       "        [ 0.5664277 , -0.47066987, -0.60766697, -0.07984471, -0.28840575],\n",
       "        [-0.63241625,  0.41908097,  0.39625922, -0.30613568,  0.28031775],\n",
       "        [-0.22069567,  0.5365335 , -0.42218515, -0.1482474 ,  0.13949494]],\n",
       "       dtype=float32)>,\n",
       " <tf.Variable 'dense_13/bias:0' shape=(5,) dtype=float32, numpy=\n",
       " array([0.       , 0.       , 1.0899047, 0.6884882, 1.5063164],\n",
       "       dtype=float32)>,\n",
       " <tf.Variable 'dense_14/kernel:0' shape=(5, 5) dtype=float32, numpy=\n",
       " array([[-3.44564736e-01,  6.32372141e-01,  3.85255575e-01,\n",
       "         -3.00846756e-01, -1.23264074e-01],\n",
       "        [-4.35507864e-01,  1.34057224e-01, -3.77630085e-01,\n",
       "         -5.98814368e-01, -5.30533850e-01],\n",
       "        [-3.34234461e-02,  9.60528851e-04,  5.26085317e-01,\n",
       "         -6.30865633e-01,  4.16953564e-02],\n",
       "        [ 1.65121779e-01, -3.79539460e-01, -8.17942396e-02,\n",
       "         -1.02632642e+00, -2.06648469e-01],\n",
       "        [ 9.04645920e-01, -2.43980825e-01,  5.49683213e-01,\n",
       "         -2.16054991e-01, -4.19312865e-01]], dtype=float32)>,\n",
       " <tf.Variable 'dense_14/bias:0' shape=(5,) dtype=float32, numpy=\n",
       " array([ 1.6266811,  0.       ,  1.5207937, -0.6004772,  0.       ],\n",
       "       dtype=float32)>,\n",
       " <tf.Variable 'dense_15/kernel:0' shape=(5, 5) dtype=float32, numpy=\n",
       " array([[ 0.02481079,  0.62182856,  0.8682939 , -0.43949637,  0.2895005 ],\n",
       "        [ 0.23643231, -0.20015538,  0.6325978 , -0.42982623,  0.19962299],\n",
       "        [-0.45740867, -0.04610066,  0.63528776, -0.4550832 ,  0.4546487 ],\n",
       "        [ 0.1740138 ,  0.2951517 , -0.16009918, -0.33034486,  0.11108115],\n",
       "        [ 0.24190426, -0.3083713 ,  0.7284858 , -0.6932347 , -0.7681191 ]],\n",
       "       dtype=float32)>,\n",
       " <tf.Variable 'dense_15/bias:0' shape=(5,) dtype=float32, numpy=\n",
       " array([0.        , 1.5785416 , 1.649393  , 0.        , 0.86714745],\n",
       "       dtype=float32)>,\n",
       " <tf.Variable 'dense_16/kernel:0' shape=(5, 5) dtype=float32, numpy=\n",
       " array([[-0.4993563 ,  0.2914282 ,  0.72990406, -0.40488192,  0.44122934],\n",
       "        [ 0.2715376 , -0.6705626 ,  0.04511136, -1.1635883 ,  0.1361606 ],\n",
       "        [ 0.88563496,  0.49486125, -0.66639924, -1.2941732 , -0.96533567],\n",
       "        [-0.6414559 , -0.13676715, -0.18299419,  0.5917698 , -0.01688492],\n",
       "        [ 0.2509346 , -0.4438712 , -0.24402201,  0.07809643, -0.55322903]],\n",
       "       dtype=float32)>,\n",
       " <tf.Variable 'dense_16/bias:0' shape=(5,) dtype=float32, numpy=\n",
       " array([ 1.6465096 ,  0.        ,  0.        , -0.60047716, -0.55580413],\n",
       "       dtype=float32)>,\n",
       " <tf.Variable 'dense_17/kernel:0' shape=(5, 5) dtype=float32, numpy=\n",
       " array([[-0.64369345, -0.47349933, -0.26690346, -0.8916909 ,  0.9458598 ],\n",
       "        [ 0.6933968 ,  0.5031773 ,  0.43684554, -0.04810202,  0.53556466],\n",
       "        [-0.65681005, -0.5535948 , -0.3235587 , -0.0781787 ,  0.21448916],\n",
       "        [-0.41685537,  0.44688034,  0.23519254,  0.08447208,  0.19656995],\n",
       "        [-0.7302981 ,  0.5203632 ,  0.0905149 ,  0.35401118, -0.14738604]],\n",
       "       dtype=float32)>,\n",
       " <tf.Variable 'dense_17/bias:0' shape=(5,) dtype=float32, numpy=\n",
       " array([ 0.       ,  0.       ,  0.       , -0.600476 ,  1.6483945],\n",
       "       dtype=float32)>,\n",
       " <tf.Variable 'dense_18/kernel:0' shape=(5, 5) dtype=float32, numpy=\n",
       " array([[-0.26234227, -0.5507517 , -0.05081314,  0.5485908 ,  0.3241521 ],\n",
       "        [-0.46928477,  0.62774384,  0.5392568 ,  0.18190712, -0.4489131 ],\n",
       "        [-0.02283806, -0.13663548, -0.04974103,  0.22875988,  0.6578052 ],\n",
       "        [-0.4360037 , -0.08707285, -0.01538444,  0.5892273 , -0.3759111 ],\n",
       "        [-0.11600381, -0.62678224,  0.54547006,  0.36030385, -0.160734  ]],\n",
       "       dtype=float32)>,\n",
       " <tf.Variable 'dense_18/bias:0' shape=(5,) dtype=float32, numpy=\n",
       " array([0.       , 0.       , 1.5424198, 1.5963942, 0.       ],\n",
       "       dtype=float32)>,\n",
       " <tf.Variable 'dense_19/kernel:0' shape=(5, 1) dtype=float32, numpy=\n",
       " array([[-0.09660983],\n",
       "        [ 0.9506457 ],\n",
       "        [ 1.1654462 ],\n",
       "        [ 0.46692085],\n",
       "        [-0.8007839 ]], dtype=float32)>,\n",
       " <tf.Variable 'dense_19/bias:0' shape=(1,) dtype=float32, numpy=array([1.4918973], dtype=float32)>]"
      ]
     },
     "execution_count": 34,
     "metadata": {},
     "output_type": "execute_result"
    }
   ],
   "source": [
    "model.trainable_weights"
   ]
  },
  {
   "cell_type": "code",
   "execution_count": 35,
   "metadata": {},
   "outputs": [
    {
     "name": "stdout",
     "output_type": "stream",
     "text": [
      "4/4 [==============================] - 0s 2ms/step - loss: 0.0000e+00\n"
     ]
    },
    {
     "data": {
      "text/plain": [
       "0.0"
      ]
     },
     "execution_count": 35,
     "metadata": {},
     "output_type": "execute_result"
    }
   ],
   "source": [
    "model.evaluate(y)"
   ]
  },
  {
   "cell_type": "code",
   "execution_count": 36,
   "metadata": {},
   "outputs": [],
   "source": [
    "import seaborn as sns"
   ]
  },
  {
   "cell_type": "code",
   "execution_count": 37,
   "metadata": {},
   "outputs": [
    {
     "name": "stderr",
     "output_type": "stream",
     "text": [
      "C:\\Users\\Paddy\\anaconda3\\lib\\site-packages\\seaborn\\_decorators.py:36: FutureWarning: Pass the following variables as keyword args: x, y. From version 0.12, the only valid positional argument will be `data`, and passing other arguments without an explicit keyword will result in an error or misinterpretation.\n",
      "  warnings.warn(\n"
     ]
    },
    {
     "data": {
      "text/plain": [
       "<AxesSubplot:>"
      ]
     },
     "execution_count": 37,
     "metadata": {},
     "output_type": "execute_result"
    },
    {
     "data": {
      "image/png": "[encoded data removed]",
      "text/plain": [
       "<Figure size 432x288 with 1 Axes>"
      ]
     },
     "metadata": {
      "needs_background": "light"
     },
     "output_type": "display_data"
    }
   ],
   "source": [
    "sns.scatterplot(X,model.predict(y).flatten())"
   ]
  },
  {
   "cell_type": "code",
   "execution_count": 120,
   "metadata": {},
   "outputs": [
    {
     "data": {
      "text/plain": [
       "array([[197.01799 ],\n",
       "       [116.44994 ],\n",
       "       [130.17114 ],\n",
       "       [207.59985 ],\n",
       "       [189.96341 ],\n",
       "       [214.65443 ],\n",
       "       [ 85.57726 ],\n",
       "       [218.18172 ],\n",
       "       [ 65.00354 ],\n",
       "       [ 85.57726 ],\n",
       "       [151.16322 ],\n",
       "       [ 68.42577 ],\n",
       "       [151.16322 ],\n",
       "       [175.85423 ],\n",
       "       [168.79967 ],\n",
       "       [123.31054 ],\n",
       "       [186.43613 ],\n",
       "       [ 68.42577 ],\n",
       "       [211.12717 ],\n",
       "       [137.05405 ],\n",
       "       [172.32697 ],\n",
       "       [179.38155 ],\n",
       "       [102.72875 ],\n",
       "       [204.07259 ],\n",
       "       [130.17114 ],\n",
       "       [193.49069 ],\n",
       "       [200.54527 ],\n",
       "       [221.70903 ],\n",
       "       [214.65443 ],\n",
       "       [168.79967 ],\n",
       "       [ 89.00756 ],\n",
       "       [106.15906 ],\n",
       "       [211.12717 ],\n",
       "       [102.72875 ],\n",
       "       [ 85.57726 ],\n",
       "       [137.05405 ],\n",
       "       [ 71.85607 ],\n",
       "       [179.38155 ],\n",
       "       [197.01799 ],\n",
       "       [137.05405 ],\n",
       "       [ 92.43786 ],\n",
       "       [140.58134 ],\n",
       "       [ 78.716675],\n",
       "       [ 95.86816 ],\n",
       "       [207.59985 ],\n",
       "       [175.85423 ],\n",
       "       [186.43613 ],\n",
       "       [ 89.00756 ],\n",
       "       [165.27238 ],\n",
       "       [218.18172 ],\n",
       "       [204.07259 ],\n",
       "       [ 89.00756 ],\n",
       "       [ 89.00756 ],\n",
       "       [154.6905  ],\n",
       "       [193.49069 ],\n",
       "       [126.74083 ],\n",
       "       [151.16322 ],\n",
       "       [ 95.86816 ],\n",
       "       [200.54527 ],\n",
       "       [137.05405 ],\n",
       "       [ 82.146965],\n",
       "       [106.15906 ],\n",
       "       [137.05405 ],\n",
       "       [ 71.85607 ],\n",
       "       [ 71.85607 ],\n",
       "       [158.21779 ],\n",
       "       [119.88025 ],\n",
       "       [158.21779 ],\n",
       "       [168.79967 ],\n",
       "       [ 75.28636 ],\n",
       "       [168.79967 ],\n",
       "       [119.88025 ],\n",
       "       [214.65443 ],\n",
       "       [106.15906 ],\n",
       "       [133.60144 ],\n",
       "       [123.31054 ],\n",
       "       [133.60144 ],\n",
       "       [ 75.28636 ],\n",
       "       [168.79967 ],\n",
       "       [151.16322 ],\n",
       "       [ 95.86816 ],\n",
       "       [221.70903 ],\n",
       "       [158.21779 ],\n",
       "       [200.54527 ],\n",
       "       [ 75.28636 ],\n",
       "       [ 95.86816 ],\n",
       "       [221.70903 ],\n",
       "       [113.019646],\n",
       "       [ 99.298454],\n",
       "       [ 99.298454],\n",
       "       [151.16322 ],\n",
       "       [161.74509 ],\n",
       "       [172.32697 ],\n",
       "       [147.63591 ],\n",
       "       [197.01799 ],\n",
       "       [102.72875 ],\n",
       "       [ 85.57726 ],\n",
       "       [ 68.425766],\n",
       "       [140.58133 ]], dtype=float32)"
      ]
     },
     "execution_count": 120,
     "metadata": {},
     "output_type": "execute_result"
    }
   ],
   "source": [
    "model.predict(y)"
   ]
  },
  {
   "cell_type": "code",
   "execution_count": null,
   "metadata": {},
   "outputs": [],
   "source": []
  }
 ],
 "metadata": {
  "kernelspec": {
   "display_name": "Python 3",
   "language": "python",
   "name": "python3"
  },
  "language_info": {
   "codemirror_mode": {
    "name": "ipython",
    "version": 3
   },
   "file_extension": ".py",
   "mimetype": "text/x-python",
   "name": "python",
   "nbconvert_exporter": "python",
   "pygments_lexer": "ipython3",
   "version": "3.8.5"
  }
 },
 "nbformat": 4,
 "nbformat_minor": 4
}
