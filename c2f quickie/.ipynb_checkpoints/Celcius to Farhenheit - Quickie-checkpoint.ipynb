{
 "cells": [
  {
   "cell_type": "code",
   "execution_count": 121,
   "metadata": {},
   "outputs": [],
   "source": [
    "import pandas as pd\n",
    "df = pd.read_csv('temperature.csv')"
   ]
  },
  {
   "cell_type": "code",
   "execution_count": 122,
   "metadata": {},
   "outputs": [],
   "source": [
    "X = df['C'].values\n",
    "y = df['F'].values"
   ]
  },
  {
   "cell_type": "code",
   "execution_count": 123,
   "metadata": {},
   "outputs": [],
   "source": [
    "from tensorflow.keras.models import Sequential\n",
    "from tensorflow.keras.layers import Dense\n",
    "import tensorflow as tf"
   ]
  },
  {
   "cell_type": "code",
   "execution_count": 124,
   "metadata": {},
   "outputs": [],
   "source": [
    "model = Sequential()\n",
    "model.add(Dense(5,input_dim=1,activation='relu'))\n",
    "model.add(Dense(5,activation='relu')) #need not give input here.\n",
    "model.add(Dense(1, activation='linear'))"
   ]
  },
  {
   "cell_type": "code",
   "execution_count": 125,
   "metadata": {},
   "outputs": [
    {
     "name": "stdout",
     "output_type": "stream",
     "text": [
      "Model: \"sequential_11\"\n",
      "_________________________________________________________________\n",
      "Layer (type)                 Output Shape              Param #   \n",
      "=================================================================\n",
      "dense_23 (Dense)             (None, 5)                 10        \n",
      "_________________________________________________________________\n",
      "dense_24 (Dense)             (None, 5)                 30        \n",
      "_________________________________________________________________\n",
      "dense_25 (Dense)             (None, 1)                 6         \n",
      "=================================================================\n",
      "Total params: 46\n",
      "Trainable params: 46\n",
      "Non-trainable params: 0\n",
      "_________________________________________________________________\n"
     ]
    }
   ],
   "source": [
    "model.summary()"
   ]
  },
  {
   "cell_type": "code",
   "execution_count": 126,
   "metadata": {},
   "outputs": [],
   "source": [
    "model.compile(loss='mean_squared_error',\n",
    "              optimizer=tf.keras.optimizers.Adam(0.1))"
   ]
  },
  {
   "cell_type": "code",
   "execution_count": 127,
   "metadata": {},
   "outputs": [
    {
     "name": "stdout",
     "output_type": "stream",
     "text": [
      "Epoch 1/30\n",
      "3/3 [==============================] - 0s 32ms/step - loss: 2778.8101 - val_loss: 335.4565\n",
      "Epoch 2/30\n",
      "3/3 [==============================] - 0s 5ms/step - loss: 704.4443 - val_loss: 700.9152\n",
      "Epoch 3/30\n",
      "3/3 [==============================] - 0s 6ms/step - loss: 551.7426 - val_loss: 442.5807\n",
      "Epoch 4/30\n",
      "3/3 [==============================] - 0s 7ms/step - loss: 496.0201 - val_loss: 603.9342\n",
      "Epoch 5/30\n",
      "3/3 [==============================] - 0s 6ms/step - loss: 492.7432 - val_loss: 288.3948\n",
      "Epoch 6/30\n",
      "3/3 [==============================] - 0s 7ms/step - loss: 252.1040 - val_loss: 382.8994\n",
      "Epoch 7/30\n",
      "3/3 [==============================] - 0s 6ms/step - loss: 384.3377 - val_loss: 259.6213\n",
      "Epoch 8/30\n",
      "3/3 [==============================] - 0s 6ms/step - loss: 232.2713 - val_loss: 271.7953\n",
      "Epoch 9/30\n",
      "3/3 [==============================] - 0s 7ms/step - loss: 249.4265 - val_loss: 255.6906\n",
      "Epoch 10/30\n",
      "3/3 [==============================] - 0s 6ms/step - loss: 202.3213 - val_loss: 194.0332\n",
      "Epoch 11/30\n",
      "3/3 [==============================] - 0s 6ms/step - loss: 180.8814 - val_loss: 197.3030\n",
      "Epoch 12/30\n",
      "3/3 [==============================] - 0s 7ms/step - loss: 179.6057 - val_loss: 165.0452\n",
      "Epoch 13/30\n",
      "3/3 [==============================] - 0s 6ms/step - loss: 143.8381 - val_loss: 159.8896\n",
      "Epoch 14/30\n",
      "3/3 [==============================] - 0s 7ms/step - loss: 130.0567 - val_loss: 130.1806\n",
      "Epoch 15/30\n",
      "3/3 [==============================] - 0s 6ms/step - loss: 109.7433 - val_loss: 117.7513\n",
      "Epoch 16/30\n",
      "3/3 [==============================] - 0s 6ms/step - loss: 101.6813 - val_loss: 100.6440\n",
      "Epoch 17/30\n",
      "3/3 [==============================] - 0s 7ms/step - loss: 82.5591 - val_loss: 90.6922\n",
      "Epoch 18/30\n",
      "3/3 [==============================] - 0s 7ms/step - loss: 72.4185 - val_loss: 75.0641\n",
      "Epoch 19/30\n",
      "3/3 [==============================] - 0s 7ms/step - loss: 60.4561 - val_loss: 62.0505\n",
      "Epoch 20/30\n",
      "3/3 [==============================] - 0s 7ms/step - loss: 49.6152 - val_loss: 52.6862\n",
      "Epoch 21/30\n",
      "3/3 [==============================] - 0s 6ms/step - loss: 41.0190 - val_loss: 45.5072\n",
      "Epoch 22/30\n",
      "3/3 [==============================] - 0s 7ms/step - loss: 34.4720 - val_loss: 37.4530\n",
      "Epoch 23/30\n",
      "3/3 [==============================] - 0s 6ms/step - loss: 28.7116 - val_loss: 32.3742\n",
      "Epoch 24/30\n",
      "3/3 [==============================] - 0s 6ms/step - loss: 25.1760 - val_loss: 28.5969\n",
      "Epoch 25/30\n",
      "3/3 [==============================] - 0s 7ms/step - loss: 23.1458 - val_loss: 25.7084\n",
      "Epoch 26/30\n",
      "3/3 [==============================] - 0s 6ms/step - loss: 20.6699 - val_loss: 23.4656\n",
      "Epoch 27/30\n",
      "3/3 [==============================] - 0s 6ms/step - loss: 19.2908 - val_loss: 21.2299\n",
      "Epoch 28/30\n",
      "3/3 [==============================] - 0s 7ms/step - loss: 16.5940 - val_loss: 18.0672\n",
      "Epoch 29/30\n",
      "3/3 [==============================] - 0s 6ms/step - loss: 14.4920 - val_loss: 15.7227\n",
      "Epoch 30/30\n",
      "3/3 [==============================] - 0s 7ms/step - loss: 12.2498 - val_loss: 13.9679\n"
     ]
    },
    {
     "data": {
      "text/plain": [
       "<tensorflow.python.keras.callbacks.History at 0x224b0d1b3d0>"
      ]
     },
     "execution_count": 127,
     "metadata": {},
     "output_type": "execute_result"
    }
   ],
   "source": [
    "model.fit(X,y,epochs=30,verbose=1,validation_split=0.2)"
   ]
  },
  {
   "cell_type": "code",
   "execution_count": 128,
   "metadata": {},
   "outputs": [],
   "source": [
    "loss_df = pd.DataFrame(model.history.history)"
   ]
  },
  {
   "cell_type": "code",
   "execution_count": 129,
   "metadata": {},
   "outputs": [
    {
     "data": {
      "text/plain": [
       "<AxesSubplot:>"
      ]
     },
     "execution_count": 129,
     "metadata": {},
     "output_type": "execute_result"
    },
    {
     "data": {
      "image/png": "[encoded data removed]",
      "text/plain": [
       "<Figure size 432x288 with 1 Axes>"
      ]
     },
     "metadata": {
      "needs_background": "light"
     },
     "output_type": "display_data"
    }
   ],
   "source": [
    "loss_df.plot()"
   ]
  },
  {
   "cell_type": "code",
   "execution_count": 130,
   "metadata": {},
   "outputs": [
    {
     "data": {
      "text/plain": [
       "array([[88.33387]], dtype=float32)"
      ]
     },
     "execution_count": 130,
     "metadata": {},
     "output_type": "execute_result"
    }
   ],
   "source": [
    "model.predict([31])"
   ]
  },
  {
   "cell_type": "code",
   "execution_count": 131,
   "metadata": {},
   "outputs": [
    {
     "data": {
      "text/plain": [
       "[<tf.Variable 'dense_23/kernel:0' shape=(1, 5) dtype=float32, numpy=\n",
       " array([[ 0.5513088 ,  0.21462756,  0.95998025, -0.6910833 , -0.69384503]],\n",
       "       dtype=float32)>,\n",
       " <tf.Variable 'dense_23/bias:0' shape=(5,) dtype=float32, numpy=\n",
       " array([3.7720623, 3.8747432, 3.7444055, 0.8056768, 2.8418028],\n",
       "       dtype=float32)>,\n",
       " <tf.Variable 'dense_24/kernel:0' shape=(5, 5) dtype=float32, numpy=\n",
       " array([[-0.43557286,  0.2760051 , -0.3303081 ,  0.6982534 ,  0.34148198],\n",
       "        [-0.5656327 ,  0.79730076, -0.4171165 ,  0.678919  ,  0.08317327],\n",
       "        [-0.09833711,  0.8304376 , -0.10255402, -0.02388474,  0.8852588 ],\n",
       "        [-0.26188883,  0.45336574, -0.7071243 ,  1.7681327 ,  0.17591324],\n",
       "        [-0.01583099,  0.7314459 ,  0.45246136,  0.5496479 ,  0.73027164]],\n",
       "       dtype=float32)>,\n",
       " <tf.Variable 'dense_24/bias:0' shape=(5,) dtype=float32, numpy=\n",
       " array([-0.5160255,  3.988674 ,  0.       ,  4.396961 ,  3.90057  ],\n",
       "       dtype=float32)>,\n",
       " <tf.Variable 'dense_25/kernel:0' shape=(5, 1) dtype=float32, numpy=\n",
       " array([[-0.10182321],\n",
       "        [ 0.8662617 ],\n",
       "        [-0.87787867],\n",
       "        [ 0.6042517 ],\n",
       "        [ 0.7180624 ]], dtype=float32)>,\n",
       " <tf.Variable 'dense_25/bias:0' shape=(1,) dtype=float32, numpy=array([3.3797398], dtype=float32)>]"
      ]
     },
     "execution_count": 131,
     "metadata": {},
     "output_type": "execute_result"
    }
   ],
   "source": [
    "model.trainable_weights"
   ]
  },
  {
   "cell_type": "code",
   "execution_count": 132,
   "metadata": {},
   "outputs": [
    {
     "name": "stdout",
     "output_type": "stream",
     "text": [
      "4/4 [==============================] - 0s 1ms/step - loss: 0.0000e+00\n"
     ]
    },
    {
     "data": {
      "text/plain": [
       "0.0"
      ]
     },
     "execution_count": 132,
     "metadata": {},
     "output_type": "execute_result"
    }
   ],
   "source": [
    "model.evaluate(y)"
   ]
  },
  {
   "cell_type": "code",
   "execution_count": 133,
   "metadata": {},
   "outputs": [],
   "source": [
    "import seaborn as sns"
   ]
  },
  {
   "cell_type": "code",
   "execution_count": 134,
   "metadata": {},
   "outputs": [
    {
     "name": "stderr",
     "output_type": "stream",
     "text": [
      "C:\\Users\\Paddy\\anaconda3\\lib\\site-packages\\seaborn\\_decorators.py:36: FutureWarning: Pass the following variables as keyword args: x, y. From version 0.12, the only valid positional argument will be `data`, and passing other arguments without an explicit keyword will result in an error or misinterpretation.\n",
      "  warnings.warn(\n"
     ]
    },
    {
     "data": {
      "text/plain": [
       "<AxesSubplot:>"
      ]
     },
     "execution_count": 134,
     "metadata": {},
     "output_type": "execute_result"
    },
    {
     "data": {
      "image/png": "[encoded data removed]",
      "text/plain": [
       "<Figure size 432x288 with 1 Axes>"
      ]
     },
     "metadata": {
      "needs_background": "light"
     },
     "output_type": "display_data"
    }
   ],
   "source": [
    "sns.scatterplot(X,model.predict(y).flatten())"
   ]
  },
  {
   "cell_type": "code",
   "execution_count": 120,
   "metadata": {},
   "outputs": [
    {
     "data": {
      "text/plain": [
       "array([[197.01799 ],\n",
       "       [116.44994 ],\n",
       "       [130.17114 ],\n",
       "       [207.59985 ],\n",
       "       [189.96341 ],\n",
       "       [214.65443 ],\n",
       "       [ 85.57726 ],\n",
       "       [218.18172 ],\n",
       "       [ 65.00354 ],\n",
       "       [ 85.57726 ],\n",
       "       [151.16322 ],\n",
       "       [ 68.42577 ],\n",
       "       [151.16322 ],\n",
       "       [175.85423 ],\n",
       "       [168.79967 ],\n",
       "       [123.31054 ],\n",
       "       [186.43613 ],\n",
       "       [ 68.42577 ],\n",
       "       [211.12717 ],\n",
       "       [137.05405 ],\n",
       "       [172.32697 ],\n",
       "       [179.38155 ],\n",
       "       [102.72875 ],\n",
       "       [204.07259 ],\n",
       "       [130.17114 ],\n",
       "       [193.49069 ],\n",
       "       [200.54527 ],\n",
       "       [221.70903 ],\n",
       "       [214.65443 ],\n",
       "       [168.79967 ],\n",
       "       [ 89.00756 ],\n",
       "       [106.15906 ],\n",
       "       [211.12717 ],\n",
       "       [102.72875 ],\n",
       "       [ 85.57726 ],\n",
       "       [137.05405 ],\n",
       "       [ 71.85607 ],\n",
       "       [179.38155 ],\n",
       "       [197.01799 ],\n",
       "       [137.05405 ],\n",
       "       [ 92.43786 ],\n",
       "       [140.58134 ],\n",
       "       [ 78.716675],\n",
       "       [ 95.86816 ],\n",
       "       [207.59985 ],\n",
       "       [175.85423 ],\n",
       "       [186.43613 ],\n",
       "       [ 89.00756 ],\n",
       "       [165.27238 ],\n",
       "       [218.18172 ],\n",
       "       [204.07259 ],\n",
       "       [ 89.00756 ],\n",
       "       [ 89.00756 ],\n",
       "       [154.6905  ],\n",
       "       [193.49069 ],\n",
       "       [126.74083 ],\n",
       "       [151.16322 ],\n",
       "       [ 95.86816 ],\n",
       "       [200.54527 ],\n",
       "       [137.05405 ],\n",
       "       [ 82.146965],\n",
       "       [106.15906 ],\n",
       "       [137.05405 ],\n",
       "       [ 71.85607 ],\n",
       "       [ 71.85607 ],\n",
       "       [158.21779 ],\n",
       "       [119.88025 ],\n",
       "       [158.21779 ],\n",
       "       [168.79967 ],\n",
       "       [ 75.28636 ],\n",
       "       [168.79967 ],\n",
       "       [119.88025 ],\n",
       "       [214.65443 ],\n",
       "       [106.15906 ],\n",
       "       [133.60144 ],\n",
       "       [123.31054 ],\n",
       "       [133.60144 ],\n",
       "       [ 75.28636 ],\n",
       "       [168.79967 ],\n",
       "       [151.16322 ],\n",
       "       [ 95.86816 ],\n",
       "       [221.70903 ],\n",
       "       [158.21779 ],\n",
       "       [200.54527 ],\n",
       "       [ 75.28636 ],\n",
       "       [ 95.86816 ],\n",
       "       [221.70903 ],\n",
       "       [113.019646],\n",
       "       [ 99.298454],\n",
       "       [ 99.298454],\n",
       "       [151.16322 ],\n",
       "       [161.74509 ],\n",
       "       [172.32697 ],\n",
       "       [147.63591 ],\n",
       "       [197.01799 ],\n",
       "       [102.72875 ],\n",
       "       [ 85.57726 ],\n",
       "       [ 68.425766],\n",
       "       [140.58133 ]], dtype=float32)"
      ]
     },
     "execution_count": 120,
     "metadata": {},
     "output_type": "execute_result"
    }
   ],
   "source": [
    "model.predict(y)"
   ]
  },
  {
   "cell_type": "code",
   "execution_count": null,
   "metadata": {},
   "outputs": [],
   "source": []
  }
 ],
 "metadata": {
  "kernelspec": {
   "display_name": "Python 3",
   "language": "python",
   "name": "python3"
  },
  "language_info": {
   "codemirror_mode": {
    "name": "ipython",
    "version": 3
   },
   "file_extension": ".py",
   "mimetype": "text/x-python",
   "name": "python",
   "nbconvert_exporter": "python",
   "pygments_lexer": "ipython3",
   "version": "3.8.5"
  }
 },
 "nbformat": 4,
 "nbformat_minor": 4
}
